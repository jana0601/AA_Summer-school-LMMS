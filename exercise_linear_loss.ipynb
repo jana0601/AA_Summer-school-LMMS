{
  "nbformat": 4,
  "nbformat_minor": 0,
  "metadata": {
    "colab": {
      "name": "exercise_linear-loss.ipynb",
      "provenance": [],
      "include_colab_link": true
    },
    "kernelspec": {
      "name": "python3",
      "display_name": "Python 3"
    },
    "language_info": {
      "name": "python"
    }
  },
  "cells": [
    {
      "cell_type": "markdown",
      "metadata": {
        "id": "view-in-github",
        "colab_type": "text"
      },
      "source": [
        "<a href=\"https://colab.research.google.com/github/jana0601/A_Summer-school-LMMS/blob/main/exercise_linear_loss.ipynb\" target=\"_parent\"><img src=\"https://colab.research.google.com/assets/colab-badge.svg\" alt=\"Open In Colab\"/></a>"
      ]
    },
    {
      "cell_type": "code",
      "metadata": {
        "colab": {
          "base_uri": "https://localhost:8080/",
          "height": 279
        },
        "id": "deGrdt6z7TMA",
        "outputId": "57792b36-fb83-4357-a0bf-63fc564ce488"
      },
      "source": [
        "# -*- coding: utf-8 -*-\n",
        "\"\"\"\n",
        "Created on Sat Aug 21 19:25:24 2021\n",
        "@author: Nicole\n",
        "\"\"\"\n",
        "\n",
        "######## Exercise 1: Linear Loss in Efficiency (on average) for Ordinary Least Squares \n",
        "######## underparameterized regime \n",
        "######## simulated data\n",
        "\n",
        "import numpy as np\n",
        "import matplotlib.pyplot as plt\n",
        "#from sklearn.model_selection import KFold\n",
        "import math\n",
        "\n",
        "## input dimension \n",
        "\n",
        "d = 10 \n",
        "\n",
        "## noise \n",
        "\n",
        "sigma = 1\n",
        "sd = np.sqrt(sigma)\n",
        "\n",
        "## squared euclidean norm norm \n",
        "\n",
        "def norm(x):\n",
        "    \"\"\"Define norm.\"\"\"\n",
        "    return np.sqrt(np.sum(x**2))\n",
        "\n",
        "## number of Samples \n",
        "\n",
        "n=4000\n",
        "\n",
        "## nb local nodes \n",
        "\n",
        "M = np.array([1,2,4,8,16,32,64,128,256])\n",
        "\n",
        "n/M\n",
        "## covariance \n",
        "\n",
        "eig = np.ones(d)\n",
        "Sigma = np.diag(eig) \n",
        "\n",
        "\n",
        "## source  \n",
        "\n",
        "mu = np.zeros(d)\n",
        "\n",
        "R = 100 #parameter to set the signal-to-noise-ratio\n",
        "\n",
        "beta = np.random.multivariate_normal(mu,(1/d)*Sigma, 1).transpose()\n",
        "beta = np.reshape(beta, (d))  \n",
        "beta = R*beta/norm(beta)\n",
        "\n",
        "signal = norm(beta)\n",
        "\n",
        "\n",
        "#play with SNR by increasing or decreasing R \n",
        "\n",
        "SNR = signal / sd   #play with SNR by increasing or decreasing R\n",
        "SNR\n",
        "\n",
        "## K: Number of repetitions of the experiment\n",
        "## averaging at the end \n",
        "## you can smoothen the curve by increasing K   \n",
        "\n",
        "\n",
        "K = 100\n",
        "\n",
        "## Error\n",
        "\n",
        "Error = np.zeros(len(M))\n",
        "\n",
        "\n",
        "##### begin loops \n",
        "\n",
        "for _ in range(K): \n",
        "    \n",
        "    X = np.random.multivariate_normal(mu,Sigma, n)#.transpose() \n",
        "    Y = X @ beta + np.random.normal(0,sd,n) \n",
        "    \n",
        "    for a in range(len(M)):\n",
        "        m = M[a]\n",
        "        beta_loc = np.zeros(d)\n",
        "        for mm in range(m):\n",
        "            ind_machines = np.random.choice(n, math.floor(n/m), replace = True)\n",
        "            XX = X.transpose()\n",
        "            XX = X[ind_machines, :].transpose()\n",
        "            YY = Y[ind_machines]\n",
        "            beta_loc = beta_loc + np.linalg.pinv(XX @ XX.transpose()) @ XX @ YY\n",
        "            beta_ave = beta_loc / m\n",
        "        Error[a] = Error[a] + norm(beta_ave - beta)**2\n",
        "\n",
        "\n",
        "####### end loops \n",
        "## averaging \n",
        "            \n",
        "Error = Error / K\n",
        "#Error = Error**2 #we expect a linear loss for the squared error\n",
        "\n",
        "Efficiency = Error[0]/Error\n",
        "\n",
        "\n",
        "### plots \n",
        "\n",
        "plt.plot(M, Efficiency, color='orange')\n",
        "plt.xlabel(\"nb machines\")\n",
        "plt.ylabel(\"Efficiency\")\n",
        "plt.show()"
      ],
      "execution_count": null,
      "outputs": [
        {
          "output_type": "display_data",
          "data": {
            "image/png": "[encoded data removed]",
            "text/plain": [
              "<Figure size 432x288 with 1 Axes>"
            ]
          },
          "metadata": {
            "needs_background": "light"
          }
        }
      ]
    }
  ]
}