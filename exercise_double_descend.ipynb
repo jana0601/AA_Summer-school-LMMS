{
  "nbformat": 4,
  "nbformat_minor": 0,
  "metadata": {
    "colab": {
      "name": "exercise_double-descend.ipynb",
      "provenance": [],
      "include_colab_link": true
    },
    "kernelspec": {
      "name": "python3",
      "display_name": "Python 3"
    },
    "language_info": {
      "name": "python"
    }
  },
  "cells": [
    {
      "cell_type": "markdown",
      "metadata": {
        "id": "view-in-github",
        "colab_type": "text"
      },
      "source": [
        "<a href=\"https://colab.research.google.com/github/jana0601/A_Summer-school-LMMS/blob/main/exercise_double_descend.ipynb\" target=\"_parent\"><img src=\"https://colab.research.google.com/assets/colab-badge.svg\" alt=\"Open In Colab\"/></a>"
      ]
    },
    {
      "cell_type": "code",
      "metadata": {
        "colab": {
          "base_uri": "https://localhost:8080/"
        },
        "id": "9SrJRKLC6JZ4",
        "outputId": "bf7024fb-cf5e-494c-ae6a-9d37751feb45"
      },
      "source": [
        "!git clone https://github.com/muecke-math/Leibniz-Summer-School-2021"
      ],
      "execution_count": null,
      "outputs": [
        {
          "output_type": "stream",
          "text": [
            "fatal: destination path 'Leibniz-Summer-School-2021' already exists and is not an empty directory.\n"
          ],
          "name": "stdout"
        }
      ]
    },
    {
      "cell_type": "code",
      "metadata": {
        "id": "sCflgLON6jSX"
      },
      "source": [
        ""
      ],
      "execution_count": null,
      "outputs": []
    },
    {
      "cell_type": "code",
      "metadata": {
        "colab": {
          "base_uri": "https://localhost:8080/",
          "height": 369
        },
        "id": "-YgV4gsb6EjQ",
        "outputId": "a9a97011-c553-400a-c75b-1ea695b8c5dd"
      },
      "source": [
        "# -*- coding: utf-8 -*-\n",
        "\"\"\"\n",
        "Created on Sat Aug 21 14:30:48 2021\n",
        "@author: Nicole\n",
        "\"\"\"\n",
        "\n",
        "#!/usr/bin/env python3\n",
        "# -*- coding: utf-8 -*-\n",
        "\"\"\"\n",
        "Created on Fri Aug 13 20:30:49 2021\n",
        "@author: bayerc\n",
        "\"\"\"\n",
        "\n",
        "import numpy as np\n",
        "import matplotlib.pyplot as plt\n",
        "from sklearn.model_selection import KFold\n",
        "import math\n",
        "\n",
        "#from tqdm.auto import tqdm\n",
        "\n",
        "data_train = np.loadtxt(\"/content/Leibniz-Summer-School-2021/YearPredictionMSD-train-py.txt\")\n",
        "data_test = np.loadtxt(\"/content/Leibniz-Summer-School-2021/YearPredictionMSD-test-py.txt\")\n",
        "Y_train = np.loadtxt(\"/content/Leibniz-Summer-School-2021/YearPredictionMSD-label-train-py.txt\")\n",
        "Y_test = np.loadtxt(\"/content/Leibniz-Summer-School-2021/YearPredictionMSD-label-test-py.txt\")\n",
        "\n",
        "n_train_total, d = data_train.shape\n",
        "n_test_total, _ = data_test.shape\n",
        "\n",
        "def l2_norm(x):\n",
        "    \"\"\"Define L^2-norm.\"\"\"\n",
        "    return np.sqrt(np.mean(x**2))\n",
        "\n",
        "## Note that python is 0-based, hence the end value is one past the actual last value\n",
        "N = np.arange(20, 501, 10)\n",
        "\n",
        "M = np.array([1,3,5])\n",
        "\n",
        "Error = np.zeros((len(N), len(M)))\n",
        "\n",
        "## nb of repetitions of the experiment \n",
        "## you can smoothen the curve by increasing K \n",
        "\n",
        "K = 10\n",
        "\n",
        "##### begin loops \n",
        "\n",
        "for _ in range(K):\n",
        "    for j in range(len(N)):\n",
        "        n = N[j]\n",
        "        \n",
        "        ind = np.random.choice(n_train_total, n, replace = False)\n",
        "        \n",
        "        X = data_train[ind,:].transpose()\n",
        "        Y = Y_train[ind]\n",
        "        \n",
        "        for a in range(len(M)):\n",
        "            m=M[a] \n",
        "                        \n",
        "            #beta_loc = np.zeros(d)\n",
        "            \n",
        "            beta_loc = np.zeros(d) \n",
        "            \n",
        "            for mm in range(m):\n",
        "                ind_machines = np.random.choice(n, math.floor(n/m), replace = False)\n",
        "              \n",
        "                XX = X[:,ind_machines]\n",
        "                YY = Y[ind_machines]\n",
        "                    \n",
        "                beta_loc = beta_loc + np.linalg.pinv(XX @ XX.transpose()) @ XX @ YY\n",
        "            \n",
        "                            \n",
        "            beta_ave = beta_loc / m\n",
        "            \n",
        "            \n",
        "            ## test error \n",
        "\n",
        "            n_test = int(n/3)\n",
        "\n",
        "            #ind2 = np.arange(n_test)  \n",
        "            ind2 = np.random.choice(n_test_total, n_test, replace = False)\n",
        "\n",
        "            X_test = data_test[ind2,:]\n",
        "            Y2 = Y_test[ind2]\n",
        "\n",
        "            Error[j,a] = Error[j,a] + l2_norm(X_test @ beta_ave - Y2)\n",
        "\n",
        "\n",
        "####### end loops \n",
        "## averaging \n",
        "            \n",
        "Error = Error / K\n",
        "\n",
        "\n",
        "### plot \n",
        "\n",
        "\n",
        "plt.plot(N, Error[:,0], \"k-\", label=f\"M = {M[0]}\")\n",
        "plt.plot(N, Error[:,1], \"r-\", label=f\"M = {M[1]}\")\n",
        "plt.plot(N, Error[:,2], \"b-\", label=f\"M = {M[2]}\")\n",
        "plt.xlabel(\"sample size\")\n",
        "plt.ylabel(\"Excess Risk\")\n",
        "plt.legend(loc=\"upper right\")\n",
        "plt.show()\n",
        "\n"
      ],
      "execution_count": null,
      "outputs": [
        {
          "output_type": "error",
          "ename": "OSError",
          "evalue": "ignored",
          "traceback": [
            "\u001b[0;31m---------------------------------------------------------------------------\u001b[0m",
            "\u001b[0;31mOSError\u001b[0m                                   Traceback (most recent call last)",
            "\u001b[0;32m<ipython-input-1-c5aae61d8150>\u001b[0m in \u001b[0;36m<module>\u001b[0;34m()\u001b[0m\n\u001b[1;32m     19\u001b[0m \u001b[0;31m#from tqdm.auto import tqdm\u001b[0m\u001b[0;34m\u001b[0m\u001b[0;34m\u001b[0m\u001b[0;34m\u001b[0m\u001b[0m\n\u001b[1;32m     20\u001b[0m \u001b[0;34m\u001b[0m\u001b[0m\n\u001b[0;32m---> 21\u001b[0;31m \u001b[0mdata_train\u001b[0m \u001b[0;34m=\u001b[0m \u001b[0mnp\u001b[0m\u001b[0;34m.\u001b[0m\u001b[0mloadtxt\u001b[0m\u001b[0;34m(\u001b[0m\u001b[0;34m\"/content/Leibniz-Summer-School-2021/YearPredictionMSD-train-py.txt\"\u001b[0m\u001b[0;34m)\u001b[0m\u001b[0;34m\u001b[0m\u001b[0;34m\u001b[0m\u001b[0m\n\u001b[0m\u001b[1;32m     22\u001b[0m \u001b[0mdata_test\u001b[0m \u001b[0;34m=\u001b[0m \u001b[0mnp\u001b[0m\u001b[0;34m.\u001b[0m\u001b[0mloadtxt\u001b[0m\u001b[0;34m(\u001b[0m\u001b[0;34m\"/content/Leibniz-Summer-School-2021/YearPredictionMSD-test-py.txt\"\u001b[0m\u001b[0;34m)\u001b[0m\u001b[0;34m\u001b[0m\u001b[0;34m\u001b[0m\u001b[0m\n\u001b[1;32m     23\u001b[0m \u001b[0mY_train\u001b[0m \u001b[0;34m=\u001b[0m \u001b[0mnp\u001b[0m\u001b[0;34m.\u001b[0m\u001b[0mloadtxt\u001b[0m\u001b[0;34m(\u001b[0m\u001b[0;34m\"/content/Leibniz-Summer-School-2021/YearPredictionMSD-label-train-py.txt\"\u001b[0m\u001b[0;34m)\u001b[0m\u001b[0;34m\u001b[0m\u001b[0;34m\u001b[0m\u001b[0m\n",
            "\u001b[0;32m/usr/local/lib/python3.7/dist-packages/numpy/lib/npyio.py\u001b[0m in \u001b[0;36mloadtxt\u001b[0;34m(fname, dtype, comments, delimiter, converters, skiprows, usecols, unpack, ndmin, encoding, max_rows)\u001b[0m\n\u001b[1;32m    959\u001b[0m             \u001b[0mfname\u001b[0m \u001b[0;34m=\u001b[0m \u001b[0mos_fspath\u001b[0m\u001b[0;34m(\u001b[0m\u001b[0mfname\u001b[0m\u001b[0;34m)\u001b[0m\u001b[0;34m\u001b[0m\u001b[0;34m\u001b[0m\u001b[0m\n\u001b[1;32m    960\u001b[0m         \u001b[0;32mif\u001b[0m \u001b[0m_is_string_like\u001b[0m\u001b[0;34m(\u001b[0m\u001b[0mfname\u001b[0m\u001b[0;34m)\u001b[0m\u001b[0;34m:\u001b[0m\u001b[0;34m\u001b[0m\u001b[0;34m\u001b[0m\u001b[0m\n\u001b[0;32m--> 961\u001b[0;31m             \u001b[0mfh\u001b[0m \u001b[0;34m=\u001b[0m \u001b[0mnp\u001b[0m\u001b[0;34m.\u001b[0m\u001b[0mlib\u001b[0m\u001b[0;34m.\u001b[0m\u001b[0m_datasource\u001b[0m\u001b[0;34m.\u001b[0m\u001b[0mopen\u001b[0m\u001b[0;34m(\u001b[0m\u001b[0mfname\u001b[0m\u001b[0;34m,\u001b[0m \u001b[0;34m'rt'\u001b[0m\u001b[0;34m,\u001b[0m \u001b[0mencoding\u001b[0m\u001b[0;34m=\u001b[0m\u001b[0mencoding\u001b[0m\u001b[0;34m)\u001b[0m\u001b[0;34m\u001b[0m\u001b[0;34m\u001b[0m\u001b[0m\n\u001b[0m\u001b[1;32m    962\u001b[0m             \u001b[0mfencoding\u001b[0m \u001b[0;34m=\u001b[0m \u001b[0mgetattr\u001b[0m\u001b[0;34m(\u001b[0m\u001b[0mfh\u001b[0m\u001b[0;34m,\u001b[0m \u001b[0;34m'encoding'\u001b[0m\u001b[0;34m,\u001b[0m \u001b[0;34m'latin1'\u001b[0m\u001b[0;34m)\u001b[0m\u001b[0;34m\u001b[0m\u001b[0;34m\u001b[0m\u001b[0m\n\u001b[1;32m    963\u001b[0m             \u001b[0mfh\u001b[0m \u001b[0;34m=\u001b[0m \u001b[0miter\u001b[0m\u001b[0;34m(\u001b[0m\u001b[0mfh\u001b[0m\u001b[0;34m)\u001b[0m\u001b[0;34m\u001b[0m\u001b[0;34m\u001b[0m\u001b[0m\n",
            "\u001b[0;32m/usr/local/lib/python3.7/dist-packages/numpy/lib/_datasource.py\u001b[0m in \u001b[0;36mopen\u001b[0;34m(path, mode, destpath, encoding, newline)\u001b[0m\n\u001b[1;32m    193\u001b[0m \u001b[0;34m\u001b[0m\u001b[0m\n\u001b[1;32m    194\u001b[0m     \u001b[0mds\u001b[0m \u001b[0;34m=\u001b[0m \u001b[0mDataSource\u001b[0m\u001b[0;34m(\u001b[0m\u001b[0mdestpath\u001b[0m\u001b[0;34m)\u001b[0m\u001b[0;34m\u001b[0m\u001b[0;34m\u001b[0m\u001b[0m\n\u001b[0;32m--> 195\u001b[0;31m     \u001b[0;32mreturn\u001b[0m \u001b[0mds\u001b[0m\u001b[0;34m.\u001b[0m\u001b[0mopen\u001b[0m\u001b[0;34m(\u001b[0m\u001b[0mpath\u001b[0m\u001b[0;34m,\u001b[0m \u001b[0mmode\u001b[0m\u001b[0;34m,\u001b[0m \u001b[0mencoding\u001b[0m\u001b[0;34m=\u001b[0m\u001b[0mencoding\u001b[0m\u001b[0;34m,\u001b[0m \u001b[0mnewline\u001b[0m\u001b[0;34m=\u001b[0m\u001b[0mnewline\u001b[0m\u001b[0;34m)\u001b[0m\u001b[0;34m\u001b[0m\u001b[0;34m\u001b[0m\u001b[0m\n\u001b[0m\u001b[1;32m    196\u001b[0m \u001b[0;34m\u001b[0m\u001b[0m\n\u001b[1;32m    197\u001b[0m \u001b[0;34m\u001b[0m\u001b[0m\n",
            "\u001b[0;32m/usr/local/lib/python3.7/dist-packages/numpy/lib/_datasource.py\u001b[0m in \u001b[0;36mopen\u001b[0;34m(self, path, mode, encoding, newline)\u001b[0m\n\u001b[1;32m    533\u001b[0m                                       encoding=encoding, newline=newline)\n\u001b[1;32m    534\u001b[0m         \u001b[0;32melse\u001b[0m\u001b[0;34m:\u001b[0m\u001b[0;34m\u001b[0m\u001b[0;34m\u001b[0m\u001b[0m\n\u001b[0;32m--> 535\u001b[0;31m             \u001b[0;32mraise\u001b[0m \u001b[0mIOError\u001b[0m\u001b[0;34m(\u001b[0m\u001b[0;34m\"%s not found.\"\u001b[0m \u001b[0;34m%\u001b[0m \u001b[0mpath\u001b[0m\u001b[0;34m)\u001b[0m\u001b[0;34m\u001b[0m\u001b[0;34m\u001b[0m\u001b[0m\n\u001b[0m\u001b[1;32m    536\u001b[0m \u001b[0;34m\u001b[0m\u001b[0m\n\u001b[1;32m    537\u001b[0m \u001b[0;34m\u001b[0m\u001b[0m\n",
            "\u001b[0;31mOSError\u001b[0m: /content/Leibniz-Summer-School-2021/YearPredictionMSD-train-py.txt not found."
          ]
        }
      ]
    }
  ]
}