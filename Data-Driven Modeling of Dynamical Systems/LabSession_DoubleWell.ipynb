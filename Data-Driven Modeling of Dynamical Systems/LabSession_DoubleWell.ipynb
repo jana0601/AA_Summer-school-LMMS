{
  "nbformat": 4,
  "nbformat_minor": 0,
  "metadata": {
    "kernelspec": {
      "display_name": "Python 3",
      "language": "python",
      "name": "python3"
    },
    "language_info": {
      "codemirror_mode": {
        "name": "ipython",
        "version": 3
      },
      "file_extension": ".py",
      "mimetype": "text/x-python",
      "name": "python",
      "nbconvert_exporter": "python",
      "pygments_lexer": "ipython3",
      "version": "3.7.3"
    },
    "colab": {
      "name": "LabSession_DoubleWell.ipynb",
      "provenance": [],
      "include_colab_link": true
    }
  },
  "cells": [
    {
      "cell_type": "markdown",
      "metadata": {
        "id": "view-in-github",
        "colab_type": "text"
      },
      "source": [
        "<a href=\"https://colab.research.google.com/github/jana0601/AA_Summer-school-LMMS/blob/main/Data-Driven%20Modeling%20of%20Dynamical%20Systems/LabSession_DoubleWell.ipynb\" target=\"_parent\"><img src=\"https://colab.research.google.com/assets/colab-badge.svg\" alt=\"Open In Colab\"/></a>"
      ]
    },
    {
      "cell_type": "code",
      "metadata": {
        "id": "E-GqtnyUrjIj"
      },
      "source": [
        "import numpy as np\n",
        "import matplotlib.pyplot as plt\n",
        "%matplotlib inline\n",
        "import scipy.linalg as scl\n",
        "\n",
        "import pyemma.coordinates as pco\n",
        "import pyemma.msm as pmsm\n",
        "import pyemma.plots as mplt\n",
        "\n",
        "from msmtools.analysis.dense.pcca import _pcca_connected_isa"
      ],
      "execution_count": null,
      "outputs": []
    },
    {
      "cell_type": "markdown",
      "metadata": {
        "id": "xWrBOJ8BrjIl"
      },
      "source": [
        "In this notebook, we will apply EDMD algorithm to analyze a diffusion in a two-well potential\n",
        "$$ \\mathrm{d}X_t = - V'(X_t) \\mathrm{d}t + \\sigma(X_t) \\mathrm{d}W_t $$\n",
        "$$ V(x) = (x^2 - 1)^2. $$"
      ]
    },
    {
      "cell_type": "markdown",
      "metadata": {
        "id": "WYK2eqz5rjIm"
      },
      "source": [
        "### Simulation and Evolution of Densities\n",
        "Let's repeat what we did for the previous example: we set up the numerical integrator, and then have a look at the evolution of probability distributions with time."
      ]
    },
    {
      "cell_type": "code",
      "metadata": {
        "id": "ioZyDKSVrjIm"
      },
      "source": [
        "# Euler scheme for gradient flow SDE:\n",
        "def Euler_Scheme(x0, sigma, dt, m, dV):\n",
        "    # Prepare output:\n",
        "    y = np.zeros(m)\n",
        "    y[0] = x0\n",
        "    # Initialize at x0:\n",
        "    x = x0\n",
        "    # Integrate:\n",
        "    for kk in range(1, m):\n",
        "        # Update:\n",
        "        xn = x - dV(x) * dt + np.sqrt(dt) * sigma * np.random.randn(1)\n",
        "        # Update current state:\n",
        "        y[kk] = xn\n",
        "        x = xn\n",
        "    return y"
      ],
      "execution_count": null,
      "outputs": []
    },
    {
      "cell_type": "markdown",
      "metadata": {
        "id": "ylnEmEMdrjIn"
      },
      "source": [
        "Use the above function to produce 1000 simulations, each comprising discrete 100 steps, at integration time step 1e-2, starting from uniformly drawn initial conditions in $[-1.5, 1.5]$. Produce a histogram of the data after $[5, 10, 20, 50, 100]$ steps."
      ]
    },
    {
      "cell_type": "code",
      "metadata": {
        "id": "mgdbkZB7rjIn"
      },
      "source": [
        "# Settings:\n",
        "m = 100\n",
        "dt = 1e-2\n",
        "ntraj = 1000\n",
        "\n",
        "# Derivative of the energy:\n",
        "dV = lambda x: 4*x*(x**2 - 1)\n",
        "# Diffusion:\n",
        "sigma = 1.0\n",
        "\n",
        "# Produce simulation data:\n",
        "X = np.zeros((ntraj, m))\n",
        "\n"
      ],
      "execution_count": null,
      "outputs": []
    },
    {
      "cell_type": "code",
      "metadata": {
        "id": "NXYICNGRrjIo"
      },
      "source": [
        "# Time instances to be used for histogramming:\n",
        "t_vec = np.array([5, 10, 20, 50, 100])\n",
        "# Bins for histogram:\n",
        "xe = np.arange(-2.5, 2.51, 0.1)\n",
        "xc = 0.5 * (xe[1:] + xe[:-1])\n",
        "\n",
        "# Histogram the data at different time instances:\n",
        "plt.figure()\n",
        "\n",
        "qq = 0\n",
        "for t in t_vec:\n",
        "\n",
        "plt.xlabel(\"x\", fontsize=12)\n",
        "plt.tick_params(labelsize=12)\n",
        "plt.legend(loc=2)\n",
        "plt.title(\"Time Evolution of Distribution\")"
      ],
      "execution_count": null,
      "outputs": []
    },
    {
      "cell_type": "markdown",
      "metadata": {
        "id": "TTu3nJFFrjIo"
      },
      "source": [
        "### Estimating the Koopman Operator"
      ]
    },
    {
      "cell_type": "code",
      "metadata": {
        "id": "jG0sIhy6rjIp"
      },
      "source": [
        ""
      ],
      "execution_count": null,
      "outputs": []
    },
    {
      "cell_type": "markdown",
      "metadata": {
        "id": "w0heK80krjIp"
      },
      "source": [
        "Produce 10,000 pairs $(x_l, y_l)$ by drawing $x_l$ from the invariant measure of our SDE. To do so, first draw initial conditions from a uniform distribution in $[-1.5, 1.5]$, and let them equilibrate by running the dynamics for 50 discrete steps. Use the terminal conditions of these simulations as $x_l$. Compute each $y_l$ by running the dynamics again over time $t = 0.1$ (just 10 discrete time steps). \n",
        "\n",
        "Then, estimate the Koopman matrix for a Gaussian basis with equidistant centers in $[-1.2, 1.2]$, with bandwidth $0.5$"
      ]
    },
    {
      "cell_type": "code",
      "metadata": {
        "id": "bv5pGvqsrjIq"
      },
      "source": [
        "# Produce the data:\n",
        "m = 10000\n",
        "x = np.zeros(m)\n",
        "y = np.zeros(m)\n",
        "# Generate equilibrated initial conditions:\n",
        "\n",
        "# Perform actual simulations:\n",
        "\n",
        "# Define Gaussian basis set:\n",
        "mu_vec = np.arange(-1.2, 1.21, 0.2)\n",
        "n = mu_vec.shape[0]\n",
        "sig_psi = 0.5\n",
        "\n",
        "psi = \n",
        "# Compute Koopman matrix:\n",
        "K = "
      ],
      "execution_count": null,
      "outputs": []
    },
    {
      "cell_type": "markdown",
      "metadata": {
        "id": "jwHN6ji1rjIs"
      },
      "source": [
        "Compute the first few eigenvalues of the Koopman matrix. Then, use the spectral mapping theorem to project eigenvalues at lag times $[0.1, 0.2, ..., 2.0]$."
      ]
    },
    {
      "cell_type": "code",
      "metadata": {
        "id": "1gKfkgRirjIs"
      },
      "source": [
        "# Diagonalize K:\n",
        "d, V = scl.eig(K)\n",
        "# Sort eigenvalues and eigenvectors:\n",
        "ind = np.argsort(d)[::-1]\n",
        "d = d[ind]\n",
        "V = V[:, ind]\n",
        "\n",
        "# Plot eigenvalues at multiple lag times:\n",
        "lags = nsteps * np.arange(1, 21)\n",
        "plt.figure()\n",
        "for k in range(1, 3):\n",
        "    plt.plot(dt*lags, d[k]**(lags / nsteps), \"o\")\n",
        "plt.xlabel(r\"$t$\")\n",
        "plt.ylabel(r\"$\\lambda_k(t)$\")\n",
        "plt.title(\"Eigenvalues predicted by Koopman matrix\")"
      ],
      "execution_count": null,
      "outputs": []
    },
    {
      "cell_type": "markdown",
      "metadata": {
        "id": "Ko_3oXnJrjIt"
      },
      "source": [
        "Infer the implied relaxation timescales from the eigenvalues of your Koopman matrix. These are defined as\n",
        "$$ t_k = -\\frac{t}{\\log(\\lambda_k(t))}$$"
      ]
    },
    {
      "cell_type": "code",
      "metadata": {
        "id": "4YBWnNqirjIv"
      },
      "source": [
        "# Determine timescales:\n",
        "print(\"Implied timescales: \")\n",
        "its = \n",
        "print(its)"
      ],
      "execution_count": null,
      "outputs": []
    },
    {
      "cell_type": "markdown",
      "metadata": {
        "id": "UdWtkd9ArjIv"
      },
      "source": [
        "### Finding Structure based on the Koopman matrix"
      ]
    },
    {
      "cell_type": "markdown",
      "metadata": {
        "id": "ax7qAEgLrjIv"
      },
      "source": [
        "We will now use the Koopman matrix to identify long-lived parts of the state space. "
      ]
    },
    {
      "cell_type": "code",
      "metadata": {
        "id": "EWe8y18krjIv"
      },
      "source": [
        "# Evaluate the first two eigenfunctions at all data points:\n",
        "PX = np.zeros((n, m))\n",
        "for l in range(m):\n",
        "    PX[:, l] = psi(x[l])\n",
        "VX = np.dot(V[:, :2].T, PX)\n",
        "VX[0, :] = np.mean(VX[0, :])"
      ],
      "execution_count": null,
      "outputs": []
    },
    {
      "cell_type": "code",
      "metadata": {
        "id": "QMj2kv59rjIw"
      },
      "source": [
        "# Apply PCCA:\n",
        "chi, A = _pcca_connected_isa(VX.T, n_clusters=2)"
      ],
      "execution_count": null,
      "outputs": []
    },
    {
      "cell_type": "code",
      "metadata": {
        "id": "cFK6nHPBrjIw"
      },
      "source": [
        "# Evaluate membership functions on a grid:\n",
        "xp = np.arange(-1.5, 1.51, 0.1)\n",
        "pxp = np.zeros((n, xp.shape[0]))\n",
        "for l in range(xp.shape[0]):\n",
        "    pxp[:, l] = psi(xp[l])\n",
        "chi_p = np.dot(A.T, np.dot(V[:, :2].T, pxp))"
      ],
      "execution_count": null,
      "outputs": []
    },
    {
      "cell_type": "code",
      "metadata": {
        "id": "O9rdC9njrjIw"
      },
      "source": [
        "for k in range(2):\n",
        "    plt.plot(xp, chi_p[k, :], linewidth=2.5, label=\"State %d\"%k)\n",
        "plt.legend(loc=1)\n",
        "plt.xlabel(\"x\")\n",
        "plt.title(\"Memberships for Macrostates\")"
      ],
      "execution_count": null,
      "outputs": []
    },
    {
      "cell_type": "code",
      "metadata": {
        "id": "0aNp89XTrjIx"
      },
      "source": [
        ""
      ],
      "execution_count": null,
      "outputs": []
    },
    {
      "cell_type": "markdown",
      "metadata": {
        "id": "xt3P-rQHrjIx"
      },
      "source": [
        "### Alternative: MSM Construction"
      ]
    },
    {
      "cell_type": "code",
      "metadata": {
        "id": "-vJzUWxZrjIx"
      },
      "source": [
        "# Generate a single long simulation:\n",
        "xlong = Euler_Scheme(0.0, sigma, dt, 50000, dV)\n",
        "plt.plot(xlong)"
      ],
      "execution_count": null,
      "outputs": []
    },
    {
      "cell_type": "code",
      "metadata": {
        "id": "s_EC2a0OrjIx"
      },
      "source": [
        "# Assign each time step to a box:\n",
        "dtraj = pco.assign_to_centers(xlong, centers=xc[:, None])"
      ],
      "execution_count": null,
      "outputs": []
    },
    {
      "cell_type": "code",
      "metadata": {
        "id": "JvJc2wxrrjIy"
      },
      "source": [
        "# Complete implied timescales for a series of lag times:\n",
        "its = pmsm.timescales_msm(dtraj, lags=nsteps * np.arange(1, 21), nits=4)"
      ],
      "execution_count": null,
      "outputs": []
    },
    {
      "cell_type": "code",
      "metadata": {
        "id": "KFp0NvdFrjIy"
      },
      "source": [
        "# Plot the result:\n",
        "mplt.plot_implied_timescales(its, linewidth=2.5, dt=dt, marker=\"o\")"
      ],
      "execution_count": null,
      "outputs": []
    },
    {
      "cell_type": "code",
      "metadata": {
        "id": "kuNOvMW0rjIy"
      },
      "source": [
        ""
      ],
      "execution_count": null,
      "outputs": []
    },
    {
      "cell_type": "code",
      "metadata": {
        "id": "1l3_tySdrjIy"
      },
      "source": [
        ""
      ],
      "execution_count": null,
      "outputs": []
    }
  ]
}